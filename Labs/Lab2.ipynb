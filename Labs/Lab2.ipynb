{
 "cells": [
  {
   "cell_type": "markdown",
   "metadata": {},
   "source": [
    "# Introduction to the ODL tomography interface\n",
    "In this Lab session, we will do our first tomographic reconstruction. We shall try to verify the solution of Problem 2 of the exercise session. Let us again import all the necessary stuff."
   ]
  },
  {
   "cell_type": "code",
   "execution_count": null,
   "metadata": {},
   "outputs": [],
   "source": [
    "import odl\n",
    "import numpy as np\n",
    "import matplotlib.pyplot as plt"
   ]
  },
  {
   "cell_type": "markdown",
   "metadata": {},
   "source": [
    "1. First, we define our image. Our function takes nonzero values in the unit disc (i.e., $x^2 + y^2 \\leq 1$). Use the function ``odl.uniform_discr``, which you already know, with two-element lists to create a space of functions in two variables, i.e., images. Define it on $[-2, 2]^2$.\n",
    "2. Define the function from Problem 2 on this space. This can be a bit tricky. You cannot use ``if`` in the definition of your function, but maybe it helps to know that ``True`` equals one in Python.\n",
    "3. Use the method ``show`` to visualize the image. Since our space is two-dimensional, ``show`` will not plot a function, but interpret a space element as an image.\n",
    "4. Up to know you should only have used functions which you already know. Now let’s use the tomography interface: Set up the parallel-beam geometry. Use the function [odl.tomo.parallel_beam_geometry](http://odlgroup.github.io/odl/generated/odl.tomo.geometry.parallel.parallel_beam_geometry.html) to create a simple parallel-beam geometry (this is what we need here).\n",
    "5. Now, you can obtain the discretized forward operator (i.e., the measurement matrix) by using [odl.tomo.RayTransform](http://odlgroup.github.io/odl/generated/odl.tomo.operators.ray_trafo.RayTransform.html) with the space and the geometry.\n",
    "6. Create the sinogram by applying the operator to the image. Show the sinogram. You can check if your sinogram is correct by plotting the sinogram we obtained in Problem 2.\n",
    "7. The filtered backprojection is now available with [odl.tomo.fbp_op](http://odlgroup.github.io/odl/generated/odl.tomo.analytic.filtered_back_projection.fbp_op.html).\n",
    "8. Play around with this little example. Use a different number of angles by setting the ``num_angles`` parameter when defining the geometry, add some noise to the observed data, use a different geometry, use a different image like the [Shepp–Logan phantom](http://odlgroup.github.io/odl/generated/odl.phantom.transmission.shepp_logan.html) etc. Use different filters in the Filtered Backprojection. If you have to use the space of sinograms, use the ``range`` method of the forward operator. Observe the characteristic shape of the artifacts!"
   ]
  },
  {
   "cell_type": "code",
   "execution_count": null,
   "metadata": {},
   "outputs": [],
   "source": []
  }
 ],
 "metadata": {
  "kernelspec": {
   "display_name": "Python 3",
   "language": "python",
   "name": "python3"
  },
  "language_info": {
   "codemirror_mode": {
    "name": "ipython",
    "version": 3
   },
   "file_extension": ".py",
   "mimetype": "text/x-python",
   "name": "python",
   "nbconvert_exporter": "python",
   "pygments_lexer": "ipython3",
   "version": "3.6.4"
  }
 },
 "nbformat": 4,
 "nbformat_minor": 2
}
