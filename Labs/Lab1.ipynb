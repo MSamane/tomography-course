{
 "cells": [
  {
   "cell_type": "markdown",
   "metadata": {},
   "source": [
    "# Introduction to ODL, function spaces and functions\n",
    "With this problem sheet you should familiarize yourself with ODL’s concept of spaces of discretized functions. For now, we try to deal with an extremely simple inverse problem, namely to numerically calculate the derivative of a real function.\n",
    "\n",
    "To load all the ODL stuff, we have to import ODL, which is luckily preinstalled in this environment. (You can ignore the warning which will pop up.)"
   ]
  },
  {
   "cell_type": "code",
   "execution_count": null,
   "metadata": {},
   "outputs": [],
   "source": [
    "import odl\n",
    "import numpy as np\n",
    "import matplotlib.pyplot as plt"
   ]
  },
  {
   "cell_type": "markdown",
   "metadata": {},
   "source": [
    "In the sequel, you should do the following:\n",
    "\n",
    "1. Define a space of functions on the closed interval $[0, 1]$ with variable discretization (i.e., you should be able to choose the number of supporting points). Use the function [odl.uniform_discr](http://odlgroup.github.io/odl/generated/odl.discr.lp_discr.uniform_discr.html).\n",
    "2. Define a nice function in this space (e.g. take $f(x) = x^3/3$ or $f(x) = \\cos x$. Use the [element method](http://odlgroup.github.io/odl/generated/odl.discr.lp_discr.DiscreteLp.element.html#odl.discr.lp_discr.DiscreteLp.element) of your space together with a \"callable\" which gives you the function. \n",
    "3. Write down the derivative of this function and define it as another space element for comparison. (This will be the exact function you are going to look for.)\n",
    "4. Add some [Gaussian noise](http://odlgroup.github.io/odl/generated/odl.phantom.noise.white_noise.html) to the function.\n",
    "5. Use the [show method](http://odlgroup.github.io/odl/generated/odl.discr.lp_discr.DiscreteLpElement.show.html) of all functions you defined so far to test that your definitions are correct.\n",
    "6. Apply the [gradient](http://odlgroup.github.io/odl/generated/odl.discr.diff_ops.Gradient.html) to the \"corrupted\" function to calculate the derivative. Hint: For constructing an ODL operator, you must specify the parameters like the domain. Then you can call it by applying it to a space element. This looks like ``odl.Gradient(space)(func)``.\n",
    "7. Have a look at the calculated derivative and plot the difference with the exact solution.\n",
    "\n",
    "Test different levels of noise and discretizations and compare your results with Problem 1 of the exercise on Wednesday! (You can apply different numpy functions like mean or max to space elements to quantify the error.)\n",
    "\n",
    "Hint: If you get a message from matplotlib: Use ``plt.close('all')`` to close all the open figure windows. If you don’t see a picture with the ``show`` method, use the parameter ``force_show=True``."
   ]
  },
  {
   "cell_type": "code",
   "execution_count": null,
   "metadata": {},
   "outputs": [],
   "source": []
  }
 ],
 "metadata": {
  "kernelspec": {
   "display_name": "Python 3",
   "language": "python",
   "name": "python3"
  },
  "language_info": {
   "codemirror_mode": {
    "name": "ipython",
    "version": 3
   },
   "file_extension": ".py",
   "mimetype": "text/x-python",
   "name": "python",
   "nbconvert_exporter": "python",
   "pygments_lexer": "ipython3",
   "version": "3.6.4"
  }
 },
 "nbformat": 4,
 "nbformat_minor": 2
}
