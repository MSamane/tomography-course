{
 "cells": [
  {
   "cell_type": "markdown",
   "metadata": {},
   "source": [
    "# Tikhonov regularization, the conjugate gradient method and the L-curve\n",
    "An interesting approach to avoid the effects of semi-convergence is to solve instead of the least-squares problem\n",
    "$$ \\min_{\\alpha} \\frac{1}{2} \\| A \\alpha - g \\|^2 $$\n",
    "the modified problem\n",
    "$$ \\min_{\\alpha} \\frac{1}{2} \\| A \\alpha - g \\|^2 + \\frac{\\lambda}{2} \\| \\alpha \\|^2 $$\n",
    "with a regularization parameter $\\lambda > 0$. It turns out that for a suitably chosen parameter $\\lambda$ (depending on the noise level) the exact solution of the latter model (called [Tikhonov regularization](https://en.wikipedia.org/wiki/Tikhonov_regularization)) is a better reconstruction than a solution of the former one (though there are better alternatives). The optimality condition reads $0 = A^t (A \\alpha - g) + \\lambda \\alpha$. Implement the solution of this system with the CG method and plot the relative error! Afterwards try to find a good choice of the parameter $\\lambda$ with the L-curve method. (For the L-curve you should not do a full reconstruction, but only a few iterations to save time.)"
   ]
  },
  {
   "cell_type": "code",
   "execution_count": null,
   "metadata": {},
   "outputs": [],
   "source": []
  }
 ],
 "metadata": {
  "kernelspec": {
   "display_name": "Python 3",
   "language": "python",
   "name": "python3"
  },
  "language_info": {
   "codemirror_mode": {
    "name": "ipython",
    "version": 3
   },
   "file_extension": ".py",
   "mimetype": "text/x-python",
   "name": "python",
   "nbconvert_exporter": "python",
   "pygments_lexer": "ipython3",
   "version": "3.6.4"
  }
 },
 "nbformat": 4,
 "nbformat_minor": 2
}
